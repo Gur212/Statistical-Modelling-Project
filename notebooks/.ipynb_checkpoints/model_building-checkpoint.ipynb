{
 "cells": [
  {
   "cell_type": "code",
   "execution_count": 1,
   "metadata": {},
   "outputs": [],
   "source": [
    "import pandas as pd\n",
    "import statsmodels.api as sm"
   ]
  },
  {
   "cell_type": "markdown",
   "metadata": {},
   "source": [
    "Build a regression model."
   ]
  },
  {
   "cell_type": "code",
   "execution_count": 2,
   "metadata": {},
   "outputs": [],
   "source": [
    "fs_bikes = pd.read_pickle('../data/fs_bikes.pkl')\n",
    "yelp_bikes = pd.read_pickle('../data/yelp_bikes.pkl')"
   ]
  },
  {
   "cell_type": "markdown",
   "metadata": {},
   "source": [
    "+ Below, I'm trying out One Hot Encoding (OHE) for the `price` column since it's categorical"
   ]
  },
  {
   "cell_type": "code",
   "execution_count": 3,
   "metadata": {},
   "outputs": [],
   "source": [
    "yelp_price_encoding = pd.get_dummies(data=yelp_bikes, columns=['price'], dtype=int)"
   ]
  },
  {
   "cell_type": "code",
   "execution_count": 4,
   "metadata": {},
   "outputs": [],
   "source": [
    "y = yelp_price_encoding['number_of_bikes']\n",
    "x = yelp_price_encoding[['review_count', 'rating', 'price_$', 'price_$$', 'price_$$$', 'price_$$$$']]\n",
    "x = sm.add_constant(x)"
   ]
  },
  {
   "cell_type": "code",
   "execution_count": 5,
   "metadata": {},
   "outputs": [],
   "source": [
    "lin_reg = sm.OLS(y, x)\n",
    "\n",
    "model = lin_reg.fit()"
   ]
  },
  {
   "cell_type": "markdown",
   "metadata": {},
   "source": [
    "Provide model output and an interpretation of the results. "
   ]
  },
  {
   "cell_type": "code",
   "execution_count": 6,
   "metadata": {},
   "outputs": [
    {
     "name": "stdout",
     "output_type": "stream",
     "text": [
      "                            OLS Regression Results                            \n",
      "==============================================================================\n",
      "Dep. Variable:        number_of_bikes   R-squared:                       0.015\n",
      "Model:                            OLS   Adj. R-squared:                  0.014\n",
      "Method:                 Least Squares   F-statistic:                     21.23\n",
      "Date:                Fri, 31 Jan 2025   Prob (F-statistic):           6.99e-25\n",
      "Time:                        19:00:02   Log-Likelihood:                -29373.\n",
      "No. Observations:                8640   AIC:                         5.876e+04\n",
      "Df Residuals:                    8633   BIC:                         5.881e+04\n",
      "Df Model:                           6                                         \n",
      "Covariance Type:            nonrobust                                         \n",
      "================================================================================\n",
      "                   coef    std err          t      P>|t|      [0.025      0.975]\n",
      "--------------------------------------------------------------------------------\n",
      "const           18.8900      0.761     24.823      0.000      17.398      20.382\n",
      "review_count     0.0014      0.000      8.881      0.000       0.001       0.002\n",
      "rating          -0.0008      0.174     -0.005      0.996      -0.342       0.340\n",
      "price_$         -0.9454      0.381     -2.484      0.013      -1.692      -0.199\n",
      "price_$$        -0.1913      0.226     -0.845      0.398      -0.635       0.252\n",
      "price_$$$        0.7867      0.282      2.787      0.005       0.233       1.340\n",
      "price_$$$$       0.9510      0.366      2.595      0.009       0.233       1.669\n",
      "==============================================================================\n",
      "Omnibus:                     3962.218   Durbin-Watson:                   0.218\n",
      "Prob(Omnibus):                  0.000   Jarque-Bera (JB):            23780.204\n",
      "Skew:                           2.144   Prob(JB):                         0.00\n",
      "Kurtosis:                       9.904   Cond. No.                     6.09e+03\n",
      "==============================================================================\n",
      "\n",
      "Notes:\n",
      "[1] Standard Errors assume that the covariance matrix of the errors is correctly specified.\n",
      "[2] The condition number is large, 6.09e+03. This might indicate that there are\n",
      "strong multicollinearity or other numerical problems.\n"
     ]
    }
   ],
   "source": [
    "print(model.summary())"
   ]
  },
  {
   "cell_type": "markdown",
   "metadata": {},
   "source": [
    "+ I'm going to remove the `price_$$` and `rating` variables since the p-value is high, and try again."
   ]
  },
  {
   "cell_type": "code",
   "execution_count": 7,
   "metadata": {},
   "outputs": [
    {
     "name": "stdout",
     "output_type": "stream",
     "text": [
      "                            OLS Regression Results                            \n",
      "==============================================================================\n",
      "Dep. Variable:        number_of_bikes   R-squared:                       0.014\n",
      "Model:                            OLS   Adj. R-squared:                  0.014\n",
      "Method:                 Least Squares   F-statistic:                     31.67\n",
      "Date:                Fri, 31 Jan 2025   Prob (F-statistic):           3.10e-26\n",
      "Time:                        19:00:02   Log-Likelihood:                -29373.\n",
      "No. Observations:                8640   AIC:                         5.876e+04\n",
      "Df Residuals:                    8635   BIC:                         5.879e+04\n",
      "Df Model:                           4                                         \n",
      "Covariance Type:            nonrobust                                         \n",
      "================================================================================\n",
      "                   coef    std err          t      P>|t|      [0.025      0.975]\n",
      "--------------------------------------------------------------------------------\n",
      "const           18.7472      0.101    185.386      0.000      18.549      18.945\n",
      "review_count     0.0014      0.000      8.948      0.000       0.001       0.002\n",
      "price_$         -0.8019      0.339     -2.362      0.018      -1.467      -0.136\n",
      "price_$$$        0.9357      0.220      4.250      0.000       0.504       1.367\n",
      "price_$$$$       1.1021      0.321      3.432      0.001       0.473       1.732\n",
      "==============================================================================\n",
      "Omnibus:                     3963.656   Durbin-Watson:                   0.217\n",
      "Prob(Omnibus):                  0.000   Jarque-Bera (JB):            23806.216\n",
      "Skew:                           2.145   Prob(JB):                         0.00\n",
      "Kurtosis:                       9.909   Cond. No.                     2.67e+03\n",
      "==============================================================================\n",
      "\n",
      "Notes:\n",
      "[1] Standard Errors assume that the covariance matrix of the errors is correctly specified.\n",
      "[2] The condition number is large, 2.67e+03. This might indicate that there are\n",
      "strong multicollinearity or other numerical problems.\n"
     ]
    }
   ],
   "source": [
    "x = x.drop(columns=['price_$$', 'rating'])\n",
    "lin_reg = sm.OLS(y, x)\n",
    "model = lin_reg.fit()\n",
    "print(model.summary())"
   ]
  },
  {
   "cell_type": "markdown",
   "metadata": {},
   "source": [
    "+ The p-value for `price_$` is still above the threshold, so I'm going to remove it as well."
   ]
  },
  {
   "cell_type": "code",
   "execution_count": 8,
   "metadata": {},
   "outputs": [
    {
     "name": "stdout",
     "output_type": "stream",
     "text": [
      "                            OLS Regression Results                            \n",
      "==============================================================================\n",
      "Dep. Variable:        number_of_bikes   R-squared:                       0.014\n",
      "Model:                            OLS   Adj. R-squared:                  0.013\n",
      "Method:                 Least Squares   F-statistic:                     40.35\n",
      "Date:                Fri, 31 Jan 2025   Prob (F-statistic):           6.94e-26\n",
      "Time:                        19:00:02   Log-Likelihood:                -29376.\n",
      "No. Observations:                8640   AIC:                         5.876e+04\n",
      "Df Residuals:                    8636   BIC:                         5.879e+04\n",
      "Df Model:                           3                                         \n",
      "Covariance Type:            nonrobust                                         \n",
      "================================================================================\n",
      "                   coef    std err          t      P>|t|      [0.025      0.975]\n",
      "--------------------------------------------------------------------------------\n",
      "const           18.6824      0.097    191.889      0.000      18.492      18.873\n",
      "review_count     0.0014      0.000      9.116      0.000       0.001       0.002\n",
      "price_$$$        0.9928      0.219      4.536      0.000       0.564       1.422\n",
      "price_$$$$       1.1574      0.320      3.613      0.000       0.529       1.785\n",
      "==============================================================================\n",
      "Omnibus:                     3968.517   Durbin-Watson:                   0.217\n",
      "Prob(Omnibus):                  0.000   Jarque-Bera (JB):            23877.634\n",
      "Skew:                           2.147   Prob(JB):                         0.00\n",
      "Kurtosis:                       9.920   Cond. No.                     2.46e+03\n",
      "==============================================================================\n",
      "\n",
      "Notes:\n",
      "[1] Standard Errors assume that the covariance matrix of the errors is correctly specified.\n",
      "[2] The condition number is large, 2.46e+03. This might indicate that there are\n",
      "strong multicollinearity or other numerical problems.\n"
     ]
    }
   ],
   "source": [
    "x = x.drop(columns='price_$')\n",
    "lin_reg = sm.OLS(y, x)\n",
    "model = lin_reg.fit()\n",
    "print(model.summary())"
   ]
  },
  {
   "cell_type": "markdown",
   "metadata": {},
   "source": [
    "+ The adjusted R<sup>2</sup> value is low, meaning that our independent variables can only account for 1.3% of the variance in the number of bikes.\n",
    "\n",
    "+ The p-value of the F-statistic is low, so we can assume that the model fits better with our independent variables included.\n",
    "\n",
    "+ From the coefficients, we can see that the price seems to have a much bigger effect on the number of bikes than the review count"
   ]
  },
  {
   "cell_type": "markdown",
   "metadata": {},
   "source": [
    "##### Trial\n",
    "\n",
    "Below, I wanted to try OHE for the categories of our points of interest. This isn't recommended for catergorical variables with many values, and there are better tests to perform, so I'm not using the result for analysis. I just wanted to see what the output would look like."
   ]
  },
  {
   "cell_type": "code",
   "execution_count": 9,
   "metadata": {},
   "outputs": [],
   "source": [
    "fs_encoding = pd.get_dummies(data=fs_bikes, columns=['category0'], dtype=int)"
   ]
  },
  {
   "cell_type": "code",
   "execution_count": 10,
   "metadata": {},
   "outputs": [],
   "source": [
    "category_list = []\n",
    "for i in list(fs_encoding.columns):\n",
    "    if i.startswith('category0') == True: category_list.append(i)"
   ]
  },
  {
   "cell_type": "code",
   "execution_count": 11,
   "metadata": {
    "scrolled": true
   },
   "outputs": [
    {
     "name": "stdout",
     "output_type": "stream",
     "text": [
      "                            OLS Regression Results                            \n",
      "==============================================================================\n",
      "Dep. Variable:        number_of_bikes   R-squared:                       0.057\n",
      "Model:                            OLS   Adj. R-squared:                  0.031\n",
      "Method:                 Least Squares   F-statistic:                     2.162\n",
      "Date:                Fri, 31 Jan 2025   Prob (F-statistic):           2.11e-21\n",
      "Time:                        19:00:02   Log-Likelihood:                -29180.\n",
      "No. Observations:                8640   AIC:                         5.884e+04\n",
      "Df Residuals:                    8402   BIC:                         6.052e+04\n",
      "Df Model:                         237                                         \n",
      "Covariance Type:            nonrobust                                         \n",
      "====================================================================================================================================\n",
      "                                                                       coef    std err          t      P>|t|      [0.025      0.975]\n",
      "------------------------------------------------------------------------------------------------------------------------------------\n",
      "const                                                               18.8227      0.269     70.047      0.000      18.296      19.349\n",
      "category0_Adult Education                                            0.1773      5.068      0.035      0.972      -9.758      10.112\n",
      "category0_Afghan Restaurant                                         -1.3560      1.867     -0.726      0.468      -5.017       2.305\n",
      "category0_African Restaurant                                        -2.3521      1.757     -1.339      0.181      -5.795       1.091\n",
      "category0_Airport                                                    6.1773      3.212      1.923      0.055      -0.119      12.474\n",
      "category0_Airport Service                                            0.7773      3.212      0.242      0.809      -5.519       7.074\n",
      "category0_American Restaurant                                        0.7001      0.809      0.865      0.387      -0.886       2.286\n",
      "category0_Amusement Park                                            -1.2227      3.212     -0.381      0.703      -7.519       5.074\n",
      "category0_Aquarium                                                  13.3773      3.212      4.165      0.000       7.081      19.674\n",
      "category0_Arcade                                                     3.6218      2.401      1.509      0.131      -1.085       8.328\n",
      "category0_Arepa Restaurant                                          -3.8227      7.162     -0.534      0.594     -17.863      10.218\n",
      "category0_Art Gallery                                                0.2815      0.778      0.362      0.718      -1.244       1.807\n",
      "category0_Art Museum                                                -3.8227      4.141     -0.923      0.356     -11.940       4.295\n",
      "category0_Art School                                                 0.1773      7.162      0.025      0.980     -13.863      14.218\n",
      "category0_Arts and Entertainment                                    -0.6641      0.835     -0.796      0.426      -2.301       0.972\n",
      "category0_Asian Restaurant                                           0.1773      1.664      0.107      0.915      -3.084       3.439\n",
      "category0_Automotive Repair Shop                                     0.1773      7.162      0.025      0.980     -13.863      14.218\n",
      "category0_BBQ Joint                                                 -0.3134      0.739     -0.424      0.672      -1.763       1.136\n",
      "category0_Bagel Shop                                                 1.2985      1.275      1.019      0.308      -1.200       3.797\n",
      "category0_Bakery                                                    -0.0899      0.475     -0.189      0.850      -1.022       0.842\n",
      "category0_Bangladeshi Restaurant                                    -3.8227      4.141     -0.923      0.356     -11.940       4.295\n",
      "category0_Bank                                                       0.1773      7.162      0.025      0.980     -13.863      14.218\n",
      "category0_Bar                                                        0.6808      0.438      1.553      0.120      -0.178       1.540\n",
      "category0_Baseball                                                   1.8832      1.757      1.072      0.284      -1.560       5.327\n",
      "category0_Baseball Field                                             0.1773      7.162      0.025      0.980     -13.863      14.218\n",
      "category0_Basketball Court                                          -3.8227      7.162     -0.534      0.594     -17.863      10.218\n",
      "category0_Beach Bar                                                 -1.7638      1.757     -1.004      0.315      -5.207       1.680\n",
      "category0_Beer Bar                                                   1.8417      0.650      2.831      0.005       0.567       3.117\n",
      "category0_Beer Garden                                               -3.5727      3.589     -0.996      0.320     -10.608       3.462\n",
      "category0_Bingo Center                                              -3.8227      7.162     -0.534      0.594     -17.863      10.218\n",
      "category0_Bistro                                                     1.5897      0.775      2.052      0.040       0.071       3.109\n",
      "category0_Bosnian Restaurant                                         0.1773      7.162      0.025      0.980     -13.863      14.218\n",
      "category0_Bowling Alley                                             -3.8227      2.545     -1.502      0.133      -8.811       1.166\n",
      "category0_Brazilian Restaurant                                      -0.9060      1.486     -0.610      0.542      -3.818       2.006\n",
      "category0_Brewery                                                   -2.0727      2.084     -0.995      0.320      -6.157       2.012\n",
      "category0_Bubble Tea Shop                                            2.0748      1.177      1.762      0.078      -0.233       4.382\n",
      "category0_Buffet                                                    -2.3227      2.934     -0.792      0.429      -8.075       3.429\n",
      "category0_Burger Joint                                              -0.8557      0.704     -1.216      0.224      -2.236       0.524\n",
      "category0_Burmese Restaurant                                        -3.8227      7.162     -0.534      0.594     -17.863      10.218\n",
      "category0_Burrito Restaurant                                         4.3935      1.207      3.640      0.000       2.028       6.760\n",
      "category0_Bus Station                                                1.4273      3.589      0.398      0.691      -5.608       8.462\n",
      "category0_Bus Stop                                                  -3.1304      2.003     -1.563      0.118      -7.057       0.796\n",
      "category0_Cafe, Coffee, and Tea House                               -1.2424      0.581     -2.138      0.033      -2.381      -0.103\n",
      "category0_Café                                                       0.9131      0.401      2.278      0.023       0.127       1.699\n",
      "category0_Cajun and Creole Restaurant                               -2.6560      2.934     -0.905      0.365      -8.408       3.096\n",
      "category0_Campground                                                -7.8227      7.162     -1.092      0.275     -21.863       6.218\n",
      "category0_Cantonese Restaurant                                       0.3773      3.212      0.117      0.906      -5.919       6.674\n",
      "category0_Caribbean Restaurant                                      -0.5560      1.100     -0.505      0.613      -2.713       1.601\n",
      "category0_Casino                                                    -3.8227      7.162     -0.534      0.594     -17.863      10.218\n",
      "category0_Child Care Service                                        -3.8227      2.934     -1.303      0.193      -9.575       1.929\n",
      "category0_Chinese Restaurant                                        -0.6053      1.089     -0.556      0.578      -2.740       1.529\n",
      "category0_Church                                                     6.1773      7.162      0.862      0.388      -7.863      20.218\n",
      "category0_Circus                                                    20.6773      3.589      5.762      0.000      13.642      27.712\n",
      "category0_Clothing Store                                            -3.8227      7.162     -0.534      0.594     -17.863      10.218\n",
      "category0_Cocktail Bar                                              -0.5286      0.909     -0.582      0.561      -2.310       1.253\n",
      "category0_Coffee Shop                                                1.4159      0.736      1.923      0.055      -0.028       2.859\n",
      "category0_College Academic Building                                 -0.8227      2.934     -0.280      0.779      -6.575       4.929\n",
      "category0_College Administrative Building                           -2.4893      2.084     -1.195      0.232      -6.574       1.595\n",
      "category0_College Arts Building                                     -0.4227      3.212     -0.132      0.895      -6.719       5.874\n",
      "category0_College Auditorium                                        -6.3227      5.068     -1.248      0.212     -16.258       3.612\n",
      "category0_College Cafeteria                                         -2.8227      7.162     -0.394      0.694     -16.863      11.218\n",
      "category0_College Classroom                                         -2.5727      3.589     -0.717      0.473      -9.608       4.462\n",
      "category0_College Gym                                               -5.1560      4.141     -1.245      0.213     -13.274       2.962\n",
      "category0_College Lab                                               -7.8227      7.162     -1.092      0.275     -21.863       6.218\n",
      "category0_College Quad                                              -2.8227      5.068     -0.557      0.578     -12.758       7.112\n",
      "category0_College Residence Hall                                     4.1773      4.141      1.009      0.313      -3.940      12.295\n",
      "category0_College Science Building                                   4.1773      7.162      0.583      0.560      -9.863      18.218\n",
      "category0_College Soccer Field                                       0.1773      5.068      0.035      0.972      -9.758      10.112\n",
      "category0_College Stadium                                           -7.8227      7.162     -1.092      0.275     -21.863       6.218\n",
      "category0_College Theater                                            4.1773      7.162      0.583      0.560      -9.863      18.218\n",
      "category0_College and University                                    -0.5727      1.809     -0.316      0.752      -4.120       2.974\n",
      "category0_Comedy Club                                               -4.8227      3.589     -1.344      0.179     -11.858       2.212\n",
      "category0_Comfort Food Restaurant                                   -0.9477      2.545     -0.372      0.710      -5.936       4.041\n",
      "category0_Community Center                                           0.4630      1.932      0.240      0.811      -3.324       4.250\n",
      "category0_Community College                                         -1.8227      7.162     -0.254      0.799     -15.863      12.218\n",
      "category0_Community and Government                                  -3.8227      4.141     -0.923      0.356     -11.940       4.295\n",
      "category0_Computer Repair Service                                   -4.4893      4.141     -1.084      0.278     -12.607       3.628\n",
      "category0_Computer Training School                                  -3.8227      5.068     -0.754      0.451     -13.758       6.112\n",
      "category0_Concert Hall                                               3.9748      0.849      4.682      0.000       2.311       5.639\n",
      "category0_Country Club                                              -2.4893      4.141     -0.601      0.548     -10.607       5.628\n",
      "category0_Culinary School                                            1.9273      3.589      0.537      0.591      -5.108       8.962\n",
      "category0_Curling Ice                                               -1.1798      1.932     -0.611      0.541      -4.966       2.607\n",
      "category0_Dance Studio                                               2.3202      0.897      2.588      0.010       0.562       4.078\n",
      "category0_Daycare                                                    0.1773      7.162      0.025      0.980     -13.863      14.218\n",
      "category0_Deli                                                      -1.6017      0.817     -1.960      0.050      -3.204       0.000\n",
      "category0_Dessert Shop                                               8.0597      1.757      4.588      0.000       4.616      11.503\n",
      "category0_Dim Sum Restaurant                                        -0.5370      1.932     -0.278      0.781      -4.324       3.250\n",
      "category0_Diner                                                     -0.2772      0.542     -0.511      0.609      -1.340       0.786\n",
      "category0_Dive Bar                                                  -0.1798      1.932     -0.093      0.926      -3.966       3.607\n",
      "category0_Dog Park                                                   1.9773      0.844      2.342      0.019       0.323       3.632\n",
      "category0_Driving School                                             1.2440      1.867      0.666      0.505      -2.417       4.905\n",
      "category0_Eastern European Restaurant                               -3.8227      7.162     -0.534      0.594     -17.863      10.218\n",
      "category0_Education                                                 -1.0045      1.549     -0.648      0.517      -4.042       2.033\n",
      "category0_Elementary School                                         -2.5006      0.970     -2.579      0.010      -4.402      -0.600\n",
      "category0_Equipment Rental Service                                  -1.8227      5.068     -0.360      0.719     -11.758       8.112\n",
      "category0_Ethiopian Restaurant                                      -3.8227      7.162     -0.534      0.594     -17.863      10.218\n",
      "category0_Event Service                                             -2.8227      3.589     -0.787      0.432      -9.858       4.212\n",
      "category0_Event Space                                                7.0523      1.809      3.898      0.000       3.505      10.599\n",
      "category0_Falafel Restaurant                                         1.5107      4.141      0.365      0.715      -6.607       9.628\n",
      "category0_Fast Food Restaurant                                      -0.5318      0.733     -0.725      0.468      -1.969       0.906\n",
      "category0_Filipino Restaurant                                        0.3107      1.867      0.166      0.868      -3.350       3.971\n",
      "category0_Fish and Chips Shop                                       -0.1936      0.948     -0.204      0.838      -2.052       1.664\n",
      "category0_Fraternity House                                           8.1773      7.162      1.142      0.254      -5.863      22.218\n",
      "category0_French Restaurant                                         -0.3588      0.775     -0.463      0.643      -1.878       1.160\n",
      "category0_Fried Chicken Joint                                       -0.6977      1.163     -0.600      0.549      -2.978       1.582\n",
      "category0_Frozen Yogurt Shop                                         4.4273      2.545      1.740      0.082      -0.561       9.416\n",
      "category0_Garden                                                     4.6273      1.623      2.851      0.004       1.446       7.809\n",
      "category0_Gastropub                                                 -1.0727      1.112     -0.965      0.335      -3.252       1.107\n",
      "category0_Gay Bar                                                    4.1023      1.163      3.527      0.000       1.822       6.382\n",
      "category0_German Restaurant                                         -8.8227      7.162     -1.232      0.218     -22.863       5.218\n",
      "category0_Go Kart Track                                             -0.1560      4.141     -0.038      0.970      -8.274       7.962\n",
      "category0_Golf Course                                               -2.4060      1.486     -1.620      0.105      -5.318       0.506\n",
      "category0_Golf Driving Range                                        16.6773      5.068      3.291      0.001       6.742      26.612\n",
      "category0_Gourmet Store                                              0.1773      7.162      0.025      0.980     -13.863      14.218\n",
      "category0_Greek Restaurant                                           0.6084      0.977      0.622      0.534      -1.308       2.524\n",
      "category0_Gym and Studio                                            -0.6340      0.745     -0.851      0.395      -2.095       0.827\n",
      "category0_Gymnastics Center                                         -4.2227      3.212     -1.315      0.189     -10.519       2.074\n",
      "category0_Hakka Restaurant                                          -1.8227      5.068     -0.360      0.719     -11.758       8.112\n",
      "category0_Halal Restaurant                                          -3.8227      7.162     -0.534      0.594     -17.863      10.218\n",
      "category0_High School                                               -0.9477      2.545     -0.372      0.710      -5.936       4.041\n",
      "category0_Hiking Trail                                               0.4658      1.028      0.453      0.651      -1.550       2.481\n",
      "category0_History Museum                                            -3.4893      2.934     -1.189      0.234      -9.241       2.263\n",
      "category0_Hockey Club                                                0.1773      7.162      0.025      0.980     -13.863      14.218\n",
      "category0_Hookah Bar                                                -1.1560      4.141     -0.279      0.780      -9.274       6.962\n",
      "category0_Hot Dog Joint                                             -0.8227      3.589     -0.229      0.819      -7.858       6.212\n",
      "category0_IT Service                                                 0.1773      4.141      0.043      0.966      -7.940       8.295\n",
      "category0_Ice Cream Parlor                                          -1.1200      0.874     -1.281      0.200      -2.834       0.594\n",
      "category0_Indian Restaurant                                         -0.3852      0.844     -0.456      0.648      -2.040       1.270\n",
      "category0_Indie Movie Theater                                        0.1773      5.068      0.035      0.972      -9.758      10.112\n",
      "category0_Indoor Play Area                                          -3.8227      7.162     -0.534      0.594     -17.863      10.218\n",
      "category0_Internet Cafe                                             -3.8227      7.162     -0.534      0.594     -17.863      10.218\n",
      "category0_Israeli Restaurant                                        -2.8227      7.162     -0.394      0.694     -16.863      11.218\n",
      "category0_Italian Restaurant                                        -0.5933      0.554     -1.070      0.284      -1.680       0.493\n",
      "category0_Japanese Restaurant                                       -0.4943      0.915     -0.540      0.589      -2.287       1.299\n",
      "category0_Jazz and Blues Venue                                      -2.4893      2.934     -0.848      0.396      -8.241       3.263\n",
      "category0_Karaoke Bar                                                2.9273      3.589      0.816      0.415      -4.108       9.962\n",
      "category0_Korean Restaurant                                         -0.8490      1.192     -0.712      0.476      -3.185       1.487\n",
      "category0_Landmarks and Outdoors                                     0.1773      3.589      0.049      0.961      -6.858       7.212\n",
      "category0_Language School                                            2.2682      2.175      1.043      0.297      -1.995       6.531\n",
      "category0_Latin American Restaurant                                  0.1773      7.162      0.025      0.980     -13.863      14.218\n",
      "category0_Lebanese Restaurant                                        0.1773      7.162      0.025      0.980     -13.863      14.218\n",
      "category0_Legal Service                                              0.1773      5.068      0.035      0.972      -9.758      10.112\n",
      "category0_Lounge                                                    -0.3539      0.778     -0.455      0.649      -1.880       1.172\n",
      "category0_Martial Arts Dojo                                         -1.4477      2.545     -0.569      0.569      -6.436       3.541\n",
      "category0_Massage Clinic                                            -1.8227      5.068     -0.360      0.719     -11.758       8.112\n",
      "category0_Mediterranean Restaurant                                  -1.0608      1.585     -0.669      0.503      -4.167       2.046\n",
      "category0_Metro Station                                             -0.0227      2.279     -0.010      0.992      -4.491       4.445\n",
      "category0_Mexican Restaurant                                        -0.1798      1.137     -0.158      0.874      -2.408       2.048\n",
      "category0_Middle Eastern Restaurant                                 -1.1675      1.356     -0.861      0.389      -3.826       1.491\n",
      "category0_Middle School                                             -0.3227      5.068     -0.064      0.949     -10.258       9.612\n",
      "category0_Miscellaneous Store                                        0.1773      7.162      0.025      0.980     -13.863      14.218\n",
      "category0_Modern European Restaurant                                 1.1773      7.162      0.164      0.869     -12.863      15.218\n",
      "category0_Movie Theater                                              1.1335      0.722      1.569      0.117      -0.282       2.549\n",
      "category0_Museum                                                     1.8119      1.028      1.762      0.078      -0.204       3.828\n",
      "category0_Music School                                               0.5773      3.212      0.180      0.857      -5.719       6.874\n",
      "category0_Music Venue                                                3.0825      0.717      4.300      0.000       1.677       4.488\n",
      "category0_New American Restaurant                                    6.3273      1.623      3.899      0.000       3.146       9.509\n",
      "category0_Night Club                                                 3.4154      1.585      2.155      0.031       0.309       6.522\n",
      "category0_Non-Profit Organization                                   -1.1352      1.809     -0.627      0.530      -4.682       2.412\n",
      "category0_Noodle Restaurant                                          4.1773      5.068      0.824      0.410      -5.758      14.112\n",
      "category0_North Indian Restaurant                                   -3.8227      7.162     -0.534      0.594     -17.863      10.218\n",
      "category0_Office Building                                            4.1773      7.162      0.583      0.560      -9.863      18.218\n",
      "category0_Organization                                               0.1773      7.162      0.025      0.980     -13.863      14.218\n",
      "category0_Pakistani Restaurant                                      -3.8227      4.141     -0.923      0.356     -11.940       4.295\n",
      "category0_Park                                                       1.1585      0.383      3.028      0.002       0.409       1.908\n",
      "category0_Pedestrian Plaza                                           6.3440      1.708      3.714      0.000       2.995       9.693\n",
      "category0_Persian Restaurant                                        -2.6409      1.549     -1.704      0.088      -5.678       0.396\n",
      "category0_Personal Trainer                                          -9.8227      7.162     -1.371      0.170     -23.863       4.218\n",
      "category0_Peruvian Restaurant                                        2.2345      1.239      1.803      0.071      -0.195       4.664\n",
      "category0_Pilates Studio                                            -4.8227      7.162     -0.673      0.501     -18.863       9.218\n",
      "category0_Pizzeria                                                  -0.1528      0.441     -0.346      0.729      -1.018       0.712\n",
      "category0_Playground                                                -0.5150      1.028     -0.501      0.617      -2.531       1.501\n",
      "category0_Pool Hall                                                  2.0107      2.084      0.965      0.335      -2.074       6.095\n",
      "category0_Portuguese Restaurant                                      1.0662      2.401      0.444      0.657      -3.640       5.773\n",
      "category0_Preschool                                                 -1.8227      5.068     -0.360      0.719     -11.758       8.112\n",
      "category0_Primary and Secondary School                              -0.4338      1.708     -0.254      0.800      -3.782       2.915\n",
      "category0_Psychic and Astrologer                                    -4.3227      5.068     -0.853      0.394     -14.258       5.612\n",
      "category0_Pub                                                        0.3075      0.650      0.473      0.636      -0.968       1.583\n",
      "category0_Publisher                                                 -2.8227      7.162     -0.394      0.694     -16.863      11.218\n",
      "category0_Race Track                                                20.6773      5.068      4.080      0.000      10.742      30.612\n",
      "category0_Rail Station                                               2.8081      0.928      3.027      0.002       0.990       4.626\n",
      "category0_Ramen Restaurant                                           1.4319      1.002      1.429      0.153      -0.532       3.396\n",
      "category0_Recreation Center                                          4.0345      2.719      1.484      0.138      -1.295       9.364\n",
      "category0_Rental Car Location                                       -0.7638      1.757     -0.435      0.664      -4.207       2.680\n",
      "category0_Residential Building                                       0.1773      7.162      0.025      0.980     -13.863      14.218\n",
      "category0_Restaurant                                                -0.5524      0.495     -1.115      0.265      -1.523       0.418\n",
      "category0_Rock Climbing Spot                                         2.5773      3.212      0.802      0.422      -3.719       8.874\n",
      "category0_Sandwich Spot                                              0.9273      1.293      0.717      0.473      -1.608       3.463\n",
      "category0_Seafood Restaurant                                        -0.3941      1.585     -0.249      0.804      -3.501       2.713\n",
      "category0_Shawarma Restaurant                                       -1.8227      5.068     -0.360      0.719     -11.758       8.112\n",
      "category0_Shipping, Freight, and Material Transportation Service     1.6773      5.068      0.331      0.741      -8.258      11.612\n",
      "category0_Shopping Mall                                              1.8559      0.993      1.868      0.062      -0.092       3.803\n",
      "category0_Skate Park                                                 0.7773      3.212      0.242      0.809      -5.519       7.074\n",
      "category0_Skating Rink                                              -1.1560      1.867     -0.619      0.536      -4.817       2.505\n",
      "category0_Soccer Club                                               -1.1560      4.141     -0.279      0.780      -9.274       6.962\n",
      "category0_Soccer Field                                               1.9273      1.809      1.065      0.287      -1.620       5.474\n",
      "category0_Social Club                                                0.1773      7.162      0.025      0.980     -13.863      14.218\n",
      "category0_South Indian Restaurant                                   -8.8227      7.162     -1.232      0.218     -22.863       5.218\n",
      "category0_Souvlaki Shop                                             -3.3227      5.068     -0.656      0.512     -13.258       6.612\n",
      "category0_Spa                                                        0.1773      7.162      0.025      0.980     -13.863      14.218\n",
      "category0_Spanish Restaurant                                         2.7773      2.279      1.219      0.223      -1.691       7.245\n",
      "category0_Speakeasy                                                  2.8983      1.124      2.578      0.010       0.695       5.102\n",
      "category0_Sports Bar                                                -1.7318      1.112     -1.557      0.119      -3.912       0.448\n",
      "category0_Sports Club                                                0.1773      4.141      0.043      0.966      -7.940       8.295\n",
      "category0_Sports and Recreation                                      0.7199      0.786      0.916      0.360      -0.820       2.260\n",
      "category0_Sri Lankan Restaurant                                     20.1773      7.162      2.817      0.005       6.137      34.218\n",
      "category0_Stadium                                                    4.3488      0.897      4.850      0.000       2.591       6.106\n",
      "category0_Steakhouse                                                 3.9028      1.038      3.761      0.000       1.869       5.937\n",
      "category0_Strip Club                                                 4.1773      7.162      0.583      0.560      -9.863      18.218\n",
      "category0_Student Center                                            -2.3227      5.068     -0.458      0.647     -12.258       7.612\n",
      "category0_Sushi Restaurant                                          -0.0456      0.631     -0.072      0.942      -1.283       1.192\n",
      "category0_Swim School                                               -3.8227      5.068     -0.754      0.451     -13.758       6.112\n",
      "category0_Swimming Pool                                             -0.3984      1.275     -0.313      0.755      -2.897       2.100\n",
      "category0_Szechuan Restaurant                                        0.1773      7.162      0.025      0.980     -13.863      14.218\n",
      "category0_Taco Restaurant                                            0.0940      1.486      0.063      0.950      -2.818       3.006\n",
      "category0_Tapas Restaurant                                           0.6773      5.068      0.134      0.894      -9.258      10.612\n",
      "category0_Taxi Stand                                                -2.4227      3.212     -0.754      0.451      -8.719       3.874\n",
      "category0_Tennis                                                     0.8440      2.934      0.288      0.774      -4.908       6.596\n",
      "category0_Tennis Court                                              -0.6977      2.545     -0.274      0.784      -5.686       4.291\n",
      "category0_Tex-Mex Restaurant                                         0.0345      2.719      0.013      0.990      -5.295       5.364\n",
      "category0_Thai Restaurant                                           -0.1691      0.690     -0.245      0.806      -1.521       1.183\n",
      "category0_Theater                                                    3.3232      0.778      4.269      0.000       1.797       4.849\n",
      "category0_Theme Restaurant                                           8.4273      3.589      2.348      0.019       1.392      15.462\n",
      "category0_Trade School                                              -0.3227      2.934     -0.110      0.912      -6.075       5.429\n",
      "category0_Transport Hub                                             -0.8227      3.212     -0.256      0.798      -7.119       5.474\n",
      "category0_Turkish Restaurant                                        -3.8227      7.162     -0.534      0.594     -17.863      10.218\n",
      "category0_Tutoring Service                                          -1.8227      2.934     -0.621      0.535      -7.575       3.929\n",
      "category0_Ukrainian Restaurant                                      -1.8227      7.162     -0.254      0.799     -15.863      12.218\n",
      "category0_Urban Park                                                 3.1046      1.002      3.099      0.002       1.141       5.068\n",
      "category0_Vegan and Vegetarian Restaurant                           -0.9517      1.313     -0.725      0.469      -3.526       1.623\n",
      "category0_Vietnamese Restaurant                                     -0.5165      1.057     -0.489      0.625      -2.589       1.556\n",
      "category0_Water Park                                                 0.1773      7.162      0.025      0.980     -13.863      14.218\n",
      "category0_Wholesaler                                                 6.1148      1.809      3.379      0.001       2.568       9.662\n",
      "category0_Wine Bar                                                   0.2473      0.765      0.324      0.746      -1.251       1.746\n",
      "category0_Winery                                                     0.1773      7.162      0.025      0.980     -13.863      14.218\n",
      "category0_Wings Joint                                               10.1773      5.068      2.008      0.045       0.242      20.112\n",
      "category0_Xinjiang Restaurant                                       -7.8227      7.162     -1.092      0.275     -21.863       6.218\n",
      "category0_Yoga Studio                                               -0.7739      1.150     -0.673      0.501      -3.027       1.480\n",
      "category0_Zoo                                                        1.1773      4.141      0.284      0.776      -6.940       9.295\n",
      "==============================================================================\n",
      "Omnibus:                     3865.947   Durbin-Watson:                   0.280\n",
      "Prob(Omnibus):                  0.000   Jarque-Bera (JB):            22960.680\n",
      "Skew:                           2.084   Prob(JB):                         0.00\n",
      "Kurtosis:                       9.812   Cond. No.                     2.26e+15\n",
      "==============================================================================\n",
      "\n",
      "Notes:\n",
      "[1] Standard Errors assume that the covariance matrix of the errors is correctly specified.\n",
      "[2] The smallest eigenvalue is 1.73e-27. This might indicate that there are\n",
      "strong multicollinearity problems or that the design matrix is singular.\n"
     ]
    }
   ],
   "source": [
    "y = fs_encoding['number_of_bikes']\n",
    "x = fs_encoding[category_list]\n",
    "x = sm.add_constant(x)\n",
    "lin_reg = sm.OLS(y, x)\n",
    "model = lin_reg.fit()\n",
    "print(model.summary())"
   ]
  },
  {
   "cell_type": "markdown",
   "metadata": {},
   "source": [
    "# Stretch"
   ]
  },
  {
   "cell_type": "markdown",
   "metadata": {},
   "source": [
    "How can you turn the regression model into a classification model?"
   ]
  },
  {
   "cell_type": "markdown",
   "metadata": {},
   "source": [
    "We can turn this into a classification model by defining our y variable, in this case `number_of_bikes`, as categories. We can split it into a binary variable with `low_number_of_bikes` and `high_number_of_bikes`, and run a logistic regression model. We can also split it into more categories by inlcuding `medium_number_of_bikes` or more categories, and use then multinomial logistic regression."
   ]
  }
 ],
 "metadata": {
  "kernelspec": {
   "display_name": "Python 3 (ipykernel)",
   "language": "python",
   "name": "python3"
  },
  "language_info": {
   "codemirror_mode": {
    "name": "ipython",
    "version": 3
   },
   "file_extension": ".py",
   "mimetype": "text/x-python",
   "name": "python",
   "nbconvert_exporter": "python",
   "pygments_lexer": "ipython3",
   "version": "3.12.7"
  }
 },
 "nbformat": 4,
 "nbformat_minor": 4
}
